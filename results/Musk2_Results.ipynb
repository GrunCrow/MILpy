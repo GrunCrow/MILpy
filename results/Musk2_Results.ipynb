{
 "cells": [
  {
   "cell_type": "markdown",
   "metadata": {},
   "source": [
    "# Results: Musk2 Scaled"
   ]
  },
  {
   "cell_type": "markdown",
   "metadata": {},
   "source": [
    "<b> MIL </b>  <i>stratified k fold Validation</i>  is performed.\n",
    "Metrics: <br>\n",
    "    - AUC \n",
    "    - Accuracie\n",
    "    \n",
    "k = 10 folds"
   ]
  },
  {
   "cell_type": "markdown",
   "metadata": {},
   "source": [
    "### Import Libraries"
   ]
  },
  {
   "cell_type": "code",
   "execution_count": 1,
   "metadata": {
    "collapsed": true
   },
   "outputs": [],
   "source": [
    "import sys,os\n",
    "os.chdir('/Users/josemiguelarrieta/Documents/MILpy')\n",
    "sys.path.append(os.path.realpath('..'))\n",
    "from data import load_data\n",
    "import warnings\n",
    "warnings.filterwarnings('ignore')\n",
    "from MILpy.functions.mil_cross_val import mil_cross_val\n",
    "\n",
    "#Import Algorithms \n",
    "from MILpy.Algorithms.simpleMIL import simpleMIL\n",
    "from MILpy.Algorithms.MILBoost import MILBoost\n",
    "from MILpy.Algorithms.maxDD import maxDD\n",
    "from MILpy.Algorithms.CKNN import CKNN\n",
    "from MILpy.Algorithms.EMDD import EMDD\n",
    "from MILpy.Algorithms.MILES import MILES\n",
    "from MILpy.Algorithms.BOW import BOW"
   ]
  },
  {
   "cell_type": "markdown",
   "metadata": {},
   "source": [
    "### Load data"
   ]
  },
  {
   "cell_type": "code",
   "execution_count": 2,
   "metadata": {
    "collapsed": false
   },
   "outputs": [],
   "source": [
    "bags,labels,X = load_data('musk2_scaled')"
   ]
  },
  {
   "cell_type": "markdown",
   "metadata": {},
   "source": [
    "#### Simple MIL [max]"
   ]
  },
  {
   "cell_type": "code",
   "execution_count": 3,
   "metadata": {
    "collapsed": true
   },
   "outputs": [],
   "source": [
    "SMILa = simpleMIL()"
   ]
  },
  {
   "cell_type": "code",
   "execution_count": 4,
   "metadata": {
    "collapsed": false
   },
   "outputs": [
    {
     "name": "stdout",
     "output_type": "stream",
     "text": [
      "Fold# 0...Fold# 1...Fold# 2...Fold# 3...Fold# 4...Fold# 5...Fold# 6...Fold# 7...Fold# 8...Fold# 9...\n",
      "AUC: 68.6904761905\n",
      "Accuracie: 71.7777777778\n",
      "Elapsed: 0.1\n"
     ]
    }
   ],
   "source": [
    "parameters_smil = {'type': 'max'}\n",
    "accuracie, results_accuracie, auc,results_auc, elapsed  = mil_cross_val(bags=bags,labels=labels.ravel(), model=SMILa, folds=10, parameters=parameters_smil, timer = True)\n",
    "print '\\n'+'AUC: ' + str(auc)+'\\n'+'Accuracie: '+ str(accuracie)+'\\n'+'Elapsed: '+ str(round(elapsed,2))"
   ]
  },
  {
   "cell_type": "markdown",
   "metadata": {},
   "source": [
    "#### Simple MIL [min]"
   ]
  },
  {
   "cell_type": "code",
   "execution_count": 5,
   "metadata": {
    "collapsed": false
   },
   "outputs": [
    {
     "name": "stdout",
     "output_type": "stream",
     "text": [
      "Fold# 0...Fold# 1...Fold# 2...Fold# 3...Fold# 4...Fold# 5...Fold# 6...Fold# 7...Fold# 8...Fold# 9...\n",
      "AUC: 72.7380952381\n",
      "Accuracie: 76.303030303\n",
      "Elapsed: 0.09\n"
     ]
    }
   ],
   "source": [
    "parameters_smil = {'type': 'min'}\n",
    "accuracie, results_accuracie, auc,results_auc, elapsed   = mil_cross_val(bags=bags,labels=labels.ravel(), model=SMILa, folds=10,parameters=parameters_smil, timer=True)\n",
    "print '\\n'+'AUC: ' + str(auc)+'\\n'+'Accuracie: '+ str(accuracie)+'\\n'+'Elapsed: '+ str(round(elapsed,2))"
   ]
  },
  {
   "cell_type": "markdown",
   "metadata": {},
   "source": [
    "#### Simple MIL [extreme]"
   ]
  },
  {
   "cell_type": "code",
   "execution_count": 6,
   "metadata": {
    "collapsed": false
   },
   "outputs": [
    {
     "name": "stdout",
     "output_type": "stream",
     "text": [
      "Fold# 0...Fold# 1...Fold# 2...Fold# 3...Fold# 4...Fold# 5...Fold# 6...Fold# 7...Fold# 8...Fold# 9...\n",
      "AUC: 82.3214285714\n",
      "Accuracie: 83.3232323232\n",
      "Elapsed: 0.14\n"
     ]
    }
   ],
   "source": [
    "parameters_smil = {'type': 'extreme'}\n",
    "accuracie, results_accuracie, auc,results_auc, elapsed = mil_cross_val(bags=bags,labels=labels.ravel(), model=SMILa, folds=10,parameters=parameters_smil, timer=True)\n",
    "print '\\n'+'AUC: ' + str(auc)+'\\n'+'Accuracie: '+ str(accuracie)+'\\n'+'Elapsed: '+ str(round(elapsed,2))"
   ]
  },
  {
   "cell_type": "markdown",
   "metadata": {},
   "source": [
    "#### Simple MIL [average]"
   ]
  },
  {
   "cell_type": "code",
   "execution_count": 7,
   "metadata": {
    "collapsed": false
   },
   "outputs": [
    {
     "name": "stdout",
     "output_type": "stream",
     "text": [
      "Fold# 0...Fold# 1...Fold# 2...Fold# 3...Fold# 4...Fold# 5...Fold# 6...Fold# 7...Fold# 8...Fold# 9...\n",
      "AUC: 81.1904761905\n",
      "Accuracie: 82.5454545455\n",
      "Elapsed: 0.08\n"
     ]
    }
   ],
   "source": [
    "parameters_smil = {'type': 'average'} \n",
    "accuracie, results_accuracie, auc,results_auc, elapsed   = mil_cross_val(bags=bags,labels=labels.ravel(), model=SMILa, folds=10,parameters=parameters_smil, timer=True)\n",
    "print '\\n'+'AUC: ' + str(auc)+'\\n'+'Accuracie: '+ str(accuracie)+'\\n'+'Elapsed: '+ str(round(elapsed,2))"
   ]
  },
  {
   "cell_type": "markdown",
   "metadata": {},
   "source": [
    "#### Bag of Words "
   ]
  },
  {
   "cell_type": "code",
   "execution_count": 8,
   "metadata": {
    "collapsed": false
   },
   "outputs": [
    {
     "name": "stdout",
     "output_type": "stream",
     "text": [
      "Fold# 0..."
     ]
    },
    {
     "name": "stderr",
     "output_type": "stream",
     "text": [
      "/Users/josemiguelarrieta/anaconda/lib/python2.7/site-packages/sklearn/utils/validation.py:515: DataConversionWarning: A column-vector y was passed when a 1d array was expected. Please change the shape of y to (n_samples, ), for example using ravel().\n",
      "  y = column_or_1d(y, warn=True)\n"
     ]
    },
    {
     "name": "stdout",
     "output_type": "stream",
     "text": [
      "Fold# 1..."
     ]
    },
    {
     "name": "stderr",
     "output_type": "stream",
     "text": [
      "/Users/josemiguelarrieta/anaconda/lib/python2.7/site-packages/sklearn/utils/validation.py:515: DataConversionWarning: A column-vector y was passed when a 1d array was expected. Please change the shape of y to (n_samples, ), for example using ravel().\n",
      "  y = column_or_1d(y, warn=True)\n"
     ]
    },
    {
     "name": "stdout",
     "output_type": "stream",
     "text": [
      "Fold# 2..."
     ]
    },
    {
     "name": "stderr",
     "output_type": "stream",
     "text": [
      "/Users/josemiguelarrieta/anaconda/lib/python2.7/site-packages/sklearn/utils/validation.py:515: DataConversionWarning: A column-vector y was passed when a 1d array was expected. Please change the shape of y to (n_samples, ), for example using ravel().\n",
      "  y = column_or_1d(y, warn=True)\n"
     ]
    },
    {
     "name": "stdout",
     "output_type": "stream",
     "text": [
      "Fold# 3..."
     ]
    },
    {
     "name": "stderr",
     "output_type": "stream",
     "text": [
      "/Users/josemiguelarrieta/anaconda/lib/python2.7/site-packages/sklearn/utils/validation.py:515: DataConversionWarning: A column-vector y was passed when a 1d array was expected. Please change the shape of y to (n_samples, ), for example using ravel().\n",
      "  y = column_or_1d(y, warn=True)\n"
     ]
    },
    {
     "name": "stdout",
     "output_type": "stream",
     "text": [
      "Fold# 4..."
     ]
    },
    {
     "name": "stderr",
     "output_type": "stream",
     "text": [
      "/Users/josemiguelarrieta/anaconda/lib/python2.7/site-packages/sklearn/utils/validation.py:515: DataConversionWarning: A column-vector y was passed when a 1d array was expected. Please change the shape of y to (n_samples, ), for example using ravel().\n",
      "  y = column_or_1d(y, warn=True)\n"
     ]
    },
    {
     "name": "stdout",
     "output_type": "stream",
     "text": [
      "Fold# 5..."
     ]
    },
    {
     "name": "stderr",
     "output_type": "stream",
     "text": [
      "/Users/josemiguelarrieta/anaconda/lib/python2.7/site-packages/sklearn/utils/validation.py:515: DataConversionWarning: A column-vector y was passed when a 1d array was expected. Please change the shape of y to (n_samples, ), for example using ravel().\n",
      "  y = column_or_1d(y, warn=True)\n"
     ]
    },
    {
     "name": "stdout",
     "output_type": "stream",
     "text": [
      "Fold# 6..."
     ]
    },
    {
     "name": "stderr",
     "output_type": "stream",
     "text": [
      "/Users/josemiguelarrieta/anaconda/lib/python2.7/site-packages/sklearn/utils/validation.py:515: DataConversionWarning: A column-vector y was passed when a 1d array was expected. Please change the shape of y to (n_samples, ), for example using ravel().\n",
      "  y = column_or_1d(y, warn=True)\n"
     ]
    },
    {
     "name": "stdout",
     "output_type": "stream",
     "text": [
      "Fold# 7..."
     ]
    },
    {
     "name": "stderr",
     "output_type": "stream",
     "text": [
      "/Users/josemiguelarrieta/anaconda/lib/python2.7/site-packages/sklearn/utils/validation.py:515: DataConversionWarning: A column-vector y was passed when a 1d array was expected. Please change the shape of y to (n_samples, ), for example using ravel().\n",
      "  y = column_or_1d(y, warn=True)\n"
     ]
    },
    {
     "name": "stdout",
     "output_type": "stream",
     "text": [
      "Fold# 8..."
     ]
    },
    {
     "name": "stderr",
     "output_type": "stream",
     "text": [
      "/Users/josemiguelarrieta/anaconda/lib/python2.7/site-packages/sklearn/utils/validation.py:515: DataConversionWarning: A column-vector y was passed when a 1d array was expected. Please change the shape of y to (n_samples, ), for example using ravel().\n",
      "  y = column_or_1d(y, warn=True)\n"
     ]
    },
    {
     "name": "stdout",
     "output_type": "stream",
     "text": [
      "Fold# 9...\n",
      "AUC: 62.7380952381\n",
      "Accuracie: 67.595959596\n",
      "Elapsed: 86.03\n"
     ]
    },
    {
     "name": "stderr",
     "output_type": "stream",
     "text": [
      "/Users/josemiguelarrieta/anaconda/lib/python2.7/site-packages/sklearn/utils/validation.py:515: DataConversionWarning: A column-vector y was passed when a 1d array was expected. Please change the shape of y to (n_samples, ), for example using ravel().\n",
      "  y = column_or_1d(y, warn=True)\n"
     ]
    }
   ],
   "source": [
    "bow_classifier = BOW() \n",
    "parameters_bow = {'k':100,'covar_type':'diag','n_iter':20}\n",
    "accuracie, results_accuracie, auc,results_auc, elapsed = mil_cross_val(bags=bags,labels=labels.ravel(), model=bow_classifier, folds=10,parameters=parameters_bow, timer=True)\n",
    "print '\\n'+'AUC: ' + str(auc)+'\\n'+'Accuracie: '+ str(accuracie)+'\\n'+'Elapsed: '+ str(round(elapsed,2))"
   ]
  },
  {
   "cell_type": "markdown",
   "metadata": {},
   "source": [
    "#### Citation KNN "
   ]
  },
  {
   "cell_type": "code",
   "execution_count": 9,
   "metadata": {
    "collapsed": false
   },
   "outputs": [
    {
     "name": "stdout",
     "output_type": "stream",
     "text": [
      "Fold# 0...Fold# 1...Fold# 2...Fold# 3...Fold# 4...Fold# 5...Fold# 6...Fold# 7...Fold# 8...Fold# 9...\n",
      "AUC: 82.7380952381\n",
      "Accuracie: 84.3434343434\n",
      "Elapsed: 59144.54\n"
     ]
    }
   ],
   "source": [
    "cknn_classifier = CKNN() \n",
    "parameters_cknn = {'references': 3, 'citers': 5}\n",
    "accuracie, results_accuracie, auc,results_auc, elapsed   = mil_cross_val(bags=bags,labels=labels.ravel(), model=cknn_classifier, folds=10,parameters=parameters_cknn, timer=True)\n",
    "print '\\n'+'AUC: ' + str(auc)+'\\n'+'Accuracie: '+ str(accuracie)+'\\n'+'Elapsed: '+ str(round(elapsed,2))"
   ]
  },
  {
   "cell_type": "markdown",
   "metadata": {},
   "source": [
    "#### Diverse Density"
   ]
  },
  {
   "cell_type": "code",
   "execution_count": 10,
   "metadata": {
    "collapsed": false
   },
   "outputs": [
    {
     "name": "stdout",
     "output_type": "stream",
     "text": [
      "Fold# 0...Fold# 1...Fold# 2...Fold# 3...Fold# 4...Fold# 5...Fold# 6...Fold# 7...Fold# 8...Fold# 9...\n",
      "AUC: 57.5595238095\n",
      "Accuracie: 65.4848484848\n",
      "Elapsed: 398.01\n"
     ]
    }
   ],
   "source": [
    "maxDD_classifier = maxDD()\n",
    "accuracie, results_accuracie, auc,results_auc, elapsed = mil_cross_val(bags=bags,labels=labels.ravel(), model=maxDD_classifier, folds=10,parameters={}, timer=True)\n",
    "print '\\n'+'AUC: ' + str(auc)+'\\n'+'Accuracie: '+ str(accuracie)+'\\n'+'Elapsed: '+ str(round(elapsed,2))"
   ]
  },
  {
   "cell_type": "markdown",
   "metadata": {},
   "source": [
    "#### EM-DD"
   ]
  },
  {
   "cell_type": "code",
   "execution_count": 11,
   "metadata": {
    "collapsed": false
   },
   "outputs": [
    {
     "name": "stdout",
     "output_type": "stream",
     "text": [
      "Fold# 0...Fold# 1...Fold# 2...Fold# 3...Fold# 4...Fold# 5...Fold# 6...Fold# 7...Fold# 8...Fold# 9...\n",
      "AUC: 85.5357142857\n",
      "Accuracie: 82.6161616162\n",
      "Elapsed: 313.78\n"
     ]
    }
   ],
   "source": [
    "emdd_classifier = EMDD()\n",
    "accuracie, results_accuracie, auc,results_auc, elapsed = mil_cross_val(bags=bags,labels=labels.ravel(), model=emdd_classifier, folds=10,parameters={}, timer=True)\n",
    "print '\\n'+'AUC: ' + str(auc)+'\\n'+'Accuracie: '+ str(accuracie)+'\\n'+'Elapsed: '+ str(round(elapsed,2))"
   ]
  },
  {
   "cell_type": "markdown",
   "metadata": {},
   "source": [
    "#### MILBoost"
   ]
  },
  {
   "cell_type": "code",
   "execution_count": 12,
   "metadata": {
    "collapsed": false
   },
   "outputs": [
    {
     "name": "stdout",
     "output_type": "stream",
     "text": [
      "Fold# 0...Fold# 1...Fold# 2...Fold# 3...Fold# 4...Fold# 5...Fold# 6...Fold# 7...Fold# 8...Fold# 9...\n",
      "AUC: 76.2202380952\n",
      "Accuracie: 40.5565962657\n",
      "Elapsed: 578.66\n"
     ]
    }
   ],
   "source": [
    "milboost_classifier = MILBoost() \n",
    "accuracie, results_accuracie, auc,results_auc, elapsed = mil_cross_val(bags=bags,labels=labels, model=milboost_classifier, folds=10,parameters={}, timer=True)\n",
    "print '\\n'+'AUC: ' + str(auc)+'\\n'+'Accuracie: '+ str(accuracie)+'\\n'+'Elapsed: '+ str(round(elapsed,2))"
   ]
  },
  {
   "cell_type": "markdown",
   "metadata": {},
   "source": [
    "#### Miles"
   ]
  },
  {
   "cell_type": "code",
   "execution_count": 14,
   "metadata": {
    "collapsed": false
   },
   "outputs": [
    {
     "name": "stdout",
     "output_type": "stream",
     "text": [
      "pending\n"
     ]
    }
   ],
   "source": [
    "print 'pending'"
   ]
  },
  {
   "cell_type": "code",
   "execution_count": null,
   "metadata": {
    "collapsed": true
   },
   "outputs": [],
   "source": []
  }
 ],
 "metadata": {
  "kernelspec": {
   "display_name": "Python 2",
   "language": "python",
   "name": "python2"
  },
  "language_info": {
   "codemirror_mode": {
    "name": "ipython",
    "version": 2
   },
   "file_extension": ".py",
   "mimetype": "text/x-python",
   "name": "python",
   "nbconvert_exporter": "python",
   "pygments_lexer": "ipython2",
   "version": "2.7.12"
  }
 },
 "nbformat": 4,
 "nbformat_minor": 0
}
